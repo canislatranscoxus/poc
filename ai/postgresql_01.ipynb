{
 "cells": [
  {
   "cell_type": "markdown",
   "id": "b2464534-1522-4ab5-b948-07329d6d71c2",
   "metadata": {},
   "source": [
    "# postgreSQL 01"
   ]
  },
  {
   "cell_type": "markdown",
   "id": "05dc3985-6754-49b0-b03a-56fe01264194",
   "metadata": {},
   "source": [
    "Examples for connecting and executing a query"
   ]
  },
  {
   "cell_type": "markdown",
   "id": "7d4f05b4-392d-4bee-b2b6-cb361b3ae036",
   "metadata": {},
   "source": [
    "### load libraries"
   ]
  },
  {
   "cell_type": "code",
   "execution_count": 1,
   "id": "4392a301-bda1-47ba-b0f3-d78a44ddf23b",
   "metadata": {},
   "outputs": [],
   "source": [
    "import os\n",
    "import psycopg2\n"
   ]
  },
  {
   "cell_type": "markdown",
   "id": "b319ed3e-af06-45ab-a6f4-896639277bdd",
   "metadata": {},
   "source": [
    "### set parameters"
   ]
  },
  {
   "cell_type": "code",
   "execution_count": 13,
   "id": "d7383db2-4aed-423d-ba93-ea306bdd80b1",
   "metadata": {},
   "outputs": [],
   "source": [
    "PG_HOST     = os.environ[ 'PG_HOST'     ]\n",
    "PG_DATABASE = os.environ[ 'PG_DATABASE' ]\n",
    "PG_USER     = os.environ[ 'PG_USER'     ]\n",
    "PG_PASSWORD = os.environ[ 'PG_PASSWORD' ]"
   ]
  },
  {
   "cell_type": "markdown",
   "id": "e80a284b-fe42-4f7d-96b2-1874b98ee515",
   "metadata": {},
   "source": [
    "### create connection"
   ]
  },
  {
   "cell_type": "code",
   "execution_count": 4,
   "id": "4cb47732-9612-49d6-bd2a-5fdebf469899",
   "metadata": {},
   "outputs": [],
   "source": [
    "conn = psycopg2.connect(\n",
    "    dbname   = PG_DATABASE,\n",
    "    user     = PG_USER,\n",
    "    password = PG_PASSWORD,\n",
    "    host     = PG_HOST,\n",
    "    port     = 5432\n",
    ")"
   ]
  },
  {
   "cell_type": "markdown",
   "id": "97c36dd5-6efd-486b-ab9c-f0e04e8bc477",
   "metadata": {},
   "source": [
    "### set SQL query"
   ]
  },
  {
   "cell_type": "code",
   "execution_count": 11,
   "id": "566cdafd-b333-4582-9c3e-95c14436b5ec",
   "metadata": {},
   "outputs": [],
   "source": [
    "query = '''\n",
    "SELECT ride_id, start_station_name  \n",
    "FROM   capital_bike_share \n",
    "LIMIT  10;\n",
    "'''"
   ]
  },
  {
   "cell_type": "markdown",
   "id": "219750b1-3ed7-4e5f-89c2-1458138178c8",
   "metadata": {},
   "source": [
    "### run query"
   ]
  },
  {
   "cell_type": "code",
   "execution_count": 12,
   "id": "322bb193-cb65-42dd-adad-2a3d92a447ff",
   "metadata": {},
   "outputs": [
    {
     "name": "stdout",
     "output_type": "stream",
     "text": [
      "('77A0F1B26D1597B1', 'Rhode Island & Connecticut Ave NW')\n",
      "('8698F10128EA4F18', '21st & I St NW')\n",
      "('AA07819DC0F58872', 'Connecticut Ave & Tilden St NW')\n",
      "('DA909BCA92EF85AB', '7th & E St SW')\n",
      "('B36F1E14D8C6757E', 'Potomac & Pennsylvania Ave SE')\n",
      "('3C10F9AE61844C89', 'Potomac & Pennsylvania Ave SE')\n",
      "('361BF81F8528597B', 'Potomac & Pennsylvania Ave SE')\n",
      "('8087C5803C444CA7', 'Calvert & Biltmore St NW')\n",
      "('D40BA9257FD7F9BC', 'Needwood Rd & Eagles Head Ct')\n",
      "('C19F084E1BA87FB9', 'Market Square / King St & Royal St')\n"
     ]
    }
   ],
   "source": [
    "with conn.cursor() as cur:\n",
    "    cur.execute( query )\n",
    "    for record in cur:\n",
    "        print( record )\n"
   ]
  },
  {
   "cell_type": "code",
   "execution_count": null,
   "id": "051dd19f-68e3-4456-ac2c-af8ee17fbf23",
   "metadata": {},
   "outputs": [],
   "source": []
  },
  {
   "cell_type": "code",
   "execution_count": null,
   "id": "2ba61f82-9411-4439-b700-738f7c164bde",
   "metadata": {},
   "outputs": [],
   "source": []
  },
  {
   "cell_type": "markdown",
   "id": "bd09cf45-be8e-4bfb-b0d1-c20ab974795d",
   "metadata": {},
   "source": [
    "### links "
   ]
  },
  {
   "cell_type": "markdown",
   "id": "967e1061-8a5d-4e41-9c9e-89b78c53aba3",
   "metadata": {},
   "source": [
    "* how to connect to postgreSQL\n",
    "\n",
    "https://www.postgresqltutorial.com/postgresql-python/connect/"
   ]
  },
  {
   "cell_type": "markdown",
   "id": "2c7ed40e-883d-428a-8a3e-25539177ab0e",
   "metadata": {},
   "source": [
    "* how to install psycopg2\n",
    "  \n",
    "https://gist.github.com/rutcreate/a0101339923f4501d36b7716afb6dc05\n"
   ]
  },
  {
   "cell_type": "code",
   "execution_count": null,
   "id": "2f6f8090-a6dd-405b-b1b0-21ca3b40eb22",
   "metadata": {},
   "outputs": [],
   "source": []
  }
 ],
 "metadata": {
  "kernelspec": {
   "display_name": "Python 3 (ipykernel)",
   "language": "python",
   "name": "python3"
  },
  "language_info": {
   "codemirror_mode": {
    "name": "ipython",
    "version": 3
   },
   "file_extension": ".py",
   "mimetype": "text/x-python",
   "name": "python",
   "nbconvert_exporter": "python",
   "pygments_lexer": "ipython3",
   "version": "3.10.11"
  }
 },
 "nbformat": 4,
 "nbformat_minor": 5
}
